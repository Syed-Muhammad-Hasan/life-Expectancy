{
  "nbformat": 4,
  "nbformat_minor": 0,
  "metadata": {
    "colab": {
      "provenance": []
    },
    "kernelspec": {
      "name": "python3",
      "display_name": "Python 3"
    },
    "language_info": {
      "name": "python"
    }
  },
  "cells": [
    {
      "cell_type": "markdown",
      "source": [
        "**Pre-processor for Data Vis Final Project**"
      ],
      "metadata": {
        "id": "VvzVkLL1rx9X"
      }
    },
    {
      "cell_type": "code",
      "execution_count": 11,
      "metadata": {
        "id": "mE_rZgWrrwj4"
      },
      "outputs": [],
      "source": [
        "#imports\n",
        "import numpy as np\n",
        "import pandas as pd\n"
      ]
    },
    {
      "cell_type": "code",
      "source": [
        "#read file\n",
        "data = pd.read_csv('/content/Life Expectancy Data.csv')"
      ],
      "metadata": {
        "colab": {
          "base_uri": "https://localhost:8080/"
        },
        "id": "BkAXdNS1sFKl",
        "outputId": "ba075af6-8006-4678-8deb-2aa6cb9b8a4f"
      },
      "execution_count": 18,
      "outputs": [
        {
          "output_type": "stream",
          "name": "stdout",
          "text": [
            "       Country  Year      Status  Life expectancy   Adult Mortality  \\\n",
            "0  Afghanistan  2015  Developing              65.0            263.0   \n",
            "1  Afghanistan  2014  Developing              59.9            271.0   \n",
            "2  Afghanistan  2013  Developing              59.9            268.0   \n",
            "3  Afghanistan  2012  Developing              59.5            272.0   \n",
            "4  Afghanistan  2011  Developing              59.2            275.0   \n",
            "\n",
            "   infant deaths  Alcohol  percentage expenditure  Hepatitis B  Measles   ...  \\\n",
            "0             62     0.01               71.279624         65.0      1154  ...   \n",
            "1             64     0.01               73.523582         62.0       492  ...   \n",
            "2             66     0.01               73.219243         64.0       430  ...   \n",
            "3             69     0.01               78.184215         67.0      2787  ...   \n",
            "4             71     0.01                7.097109         68.0      3013  ...   \n",
            "\n",
            "   Polio  Total expenditure  Diphtheria    HIV/AIDS         GDP  Population  \\\n",
            "0    6.0               8.16         65.0        0.1  584.259210  33736494.0   \n",
            "1   58.0               8.18         62.0        0.1  612.696514    327582.0   \n",
            "2   62.0               8.13         64.0        0.1  631.744976  31731688.0   \n",
            "3   67.0               8.52         67.0        0.1  669.959000   3696958.0   \n",
            "4   68.0               7.87         68.0        0.1   63.537231   2978599.0   \n",
            "\n",
            "    thinness  1-19 years   thinness 5-9 years  \\\n",
            "0                   17.2                 17.3   \n",
            "1                   17.5                 17.5   \n",
            "2                   17.7                 17.7   \n",
            "3                   17.9                 18.0   \n",
            "4                   18.2                 18.2   \n",
            "\n",
            "   Income composition of resources  Schooling  \n",
            "0                            0.479       10.1  \n",
            "1                            0.476       10.0  \n",
            "2                            0.470        9.9  \n",
            "3                            0.463        9.8  \n",
            "4                            0.454        9.5  \n",
            "\n",
            "[5 rows x 22 columns]\n"
          ]
        }
      ]
    },
    {
      "cell_type": "code",
      "source": [
        "#drop null values\n",
        "data_cleaned = data.dropna(subset=[\"Life expectancy \"])"
      ],
      "metadata": {
        "id": "5hL7BDi6sHGp"
      },
      "execution_count": 29,
      "outputs": []
    },
    {
      "cell_type": "code",
      "source": [
        "#rename countries name for chloropeth map\n",
        "data_cleaned['Country'] = data_cleaned['Country'].replace('Bolivia (Plurinational State of)', 'Plurinational State of Bolivia')\n",
        "data_cleaned['Country'] = data_cleaned['Country'].replace('Venezuela (Bolivarian Republic of)', 'Bolivarian Republic of Venezuela')\n",
        "data_cleaned['Country'] = data_cleaned['Country'].replace('Iran (Islamic Republic of)', 'Islamic Republic of Iran')\n",
        "data_cleaned['Country'] = data_cleaned['Country'].replace('Turkey', 'Türkiye')\n",
        "data_cleaned['Country'] = data_cleaned['Country'].replace(\"Democratic People's Republic of Korea\", \"Democratic People's Rep. of Korea\")\n",
        "data_cleaned['Country'] = data_cleaned['Country'].replace('Serbia', 'Serbia*')\n",
        "data_cleaned['Country'] = data_cleaned['Country'].replace('Congo', 'Republic of the Congo')\n"
      ],
      "metadata": {
        "id": "Vha616zgnlex"
      },
      "execution_count": null,
      "outputs": []
    },
    {
      "cell_type": "code",
      "source": [
        "for country in data_cleaned[\"Country\"].unique():\n",
        "    print(country)"
      ],
      "metadata": {
        "id": "VKO_Vsrnj8Nj"
      },
      "execution_count": null,
      "outputs": []
    },
    {
      "cell_type": "code",
      "source": [
        "#export data for chlorpeth map\n",
        "data_cleaned.to_csv('cleaned_life_data.csv', index=False)"
      ],
      "metadata": {
        "id": "Dyo198BmpTQQ"
      },
      "execution_count": 31,
      "outputs": []
    },
    {
      "cell_type": "code",
      "source": [
        "for year in data_cleaned['Year'].unique():\n",
        "    filtered_df = data_cleaned[data_cleaned['Year'] == year]\n",
        "    filtered_df.to_csv(f'{year}.csv', index=False)"
      ],
      "metadata": {
        "id": "lYR1qfJKzJ4e"
      },
      "execution_count": 36,
      "outputs": []
    }
  ]
}