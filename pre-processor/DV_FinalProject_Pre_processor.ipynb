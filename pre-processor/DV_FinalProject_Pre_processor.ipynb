{
  "nbformat": 4,
  "nbformat_minor": 0,
  "metadata": {
    "colab": {
      "provenance": []
    },
    "kernelspec": {
      "name": "python3",
      "display_name": "Python 3"
    },
    "language_info": {
      "name": "python"
    }
  },
  "cells": [
    {
      "cell_type": "markdown",
      "source": [
        "**Pre-processor for Data Vis Final Project**"
      ],
      "metadata": {
        "id": "VvzVkLL1rx9X"
      }
    },
    {
      "cell_type": "code",
      "execution_count": null,
      "metadata": {
        "id": "mE_rZgWrrwj4"
      },
      "outputs": [],
      "source": [
        "#imports\n",
        "import numpy as np\n",
        "import pandas as pd\n"
      ]
    },
    {
      "cell_type": "code",
      "source": [
        "#read file\n",
        "data = pd.read_csv('/content/Life Expectancy Data.csv')"
      ],
      "metadata": {
        "id": "BkAXdNS1sFKl"
      },
      "execution_count": null,
      "outputs": []
    },
    {
      "cell_type": "code",
      "source": [
        "#drop null values\n",
        "data_cleaned = data.dropna(subset=[\"Life expectancy \"])"
      ],
      "metadata": {
        "id": "5hL7BDi6sHGp"
      },
      "execution_count": null,
      "outputs": []
    },
    {
      "cell_type": "code",
      "source": [
        "#rename countries name for chloropeth map\n",
        "data_cleaned['Country'] = data_cleaned['Country'].replace('Bolivia (Plurinational State of)', 'Plurinational State of Bolivia')\n",
        "data_cleaned['Country'] = data_cleaned['Country'].replace('Venezuela (Bolivarian Republic of)', 'Bolivarian Republic of Venezuela')\n",
        "data_cleaned['Country'] = data_cleaned['Country'].replace('Iran (Islamic Republic of)', 'Islamic Republic of Iran')\n",
        "data_cleaned['Country'] = data_cleaned['Country'].replace('Turkey', 'Türkiye')\n",
        "data_cleaned['Country'] = data_cleaned['Country'].replace(\"Democratic People's Republic of Korea\", \"Democratic People's Rep. of Korea\")\n",
        "data_cleaned['Country'] = data_cleaned['Country'].replace('Serbia', 'Serbia*')\n",
        "data_cleaned['Country'] = data_cleaned['Country'].replace('Congo', 'Republic of the Congo')\n"
      ],
      "metadata": {
        "id": "Vha616zgnlex"
      },
      "execution_count": null,
      "outputs": []
    },
    {
      "cell_type": "code",
      "source": [
        "for country in data_cleaned[\"Country\"].unique():\n",
        "    print(country)"
      ],
      "metadata": {
        "id": "VKO_Vsrnj8Nj"
      },
      "execution_count": null,
      "outputs": []
    },
    {
      "cell_type": "code",
      "source": [
        "#export data for chlorpeth map\n",
        "data_cleaned.to_csv('cleaned_life_data.csv', index=False)"
      ],
      "metadata": {
        "id": "Dyo198BmpTQQ"
      },
      "execution_count": null,
      "outputs": []
    },
    {
      "cell_type": "code",
      "source": [
        "for year in data_cleaned['Year'].unique():\n",
        "    filtered_df = data_cleaned[data_cleaned['Year'] == year]\n",
        "    filtered_df.to_csv(f'{year}.csv', index=False)"
      ],
      "metadata": {
        "id": "lYR1qfJKzJ4e"
      },
      "execution_count": null,
      "outputs": []
    },
    {
      "cell_type": "code",
      "source": [
        "cleaned_datset = pd.read_csv('/content/cleaned_life_data.csv')\n",
        "for col in cleaned_datset.columns:\n",
        "  print(col);"
      ],
      "metadata": {
        "colab": {
          "base_uri": "https://localhost:8080/"
        },
        "id": "JRGNhEAFLXA8",
        "outputId": "e5b12cfc-77fb-4a73-c81d-289ba647e8a7"
      },
      "execution_count": null,
      "outputs": [
        {
          "output_type": "stream",
          "name": "stdout",
          "text": [
            "Country\n",
            "Year\n",
            "Status\n",
            "Life expectancy \n",
            "Adult Mortality\n",
            "infant deaths\n",
            "Alcohol\n",
            "percentage expenditure\n",
            "Hepatitis B\n",
            "Measles \n",
            " BMI \n",
            "under-five deaths \n",
            "Polio\n",
            "Total expenditure\n",
            "Diphtheria \n",
            " HIV/AIDS\n",
            "GDP\n",
            "Population\n",
            " thinness  1-19 years\n",
            " thinness 5-9 years\n",
            "Income composition of resources\n",
            "Schooling\n"
          ]
        }
      ]
    },
    {
      "cell_type": "code",
      "source": [
        "unique_countries = cleaned_datset['Country'].unique()\n",
        "print(unique_countries)"
      ],
      "metadata": {
        "id": "g9R-WxFPcra1"
      },
      "execution_count": null,
      "outputs": []
    },
    {
      "cell_type": "code",
      "source": [
        "country_to_continent = {\n",
        "    'Afghanistan': 'Asia',\n",
        "    'Albania': 'Europe',\n",
        "    'Algeria': 'Africa',\n",
        "    'Angola': 'Africa',\n",
        "    'Antigua and Barbuda': 'North America',\n",
        "    'Argentina': 'South America',\n",
        "    'Armenia': 'Asia',\n",
        "    'Australia': 'Oceania',\n",
        "    'Austria': 'Europe',\n",
        "    'Azerbaijan': 'Asia',\n",
        "    'Bahamas': 'North America',\n",
        "    'Bahrain': 'Asia',\n",
        "    'Bangladesh': 'Asia',\n",
        "    'Barbados': 'North America',\n",
        "    'Belarus': 'Europe',\n",
        "    'Belgium': 'Europe',\n",
        "    'Belize': 'North America',\n",
        "    'Benin': 'Africa',\n",
        "    'Bhutan': 'Asia',\n",
        "    'Plurinational State of Bolivia': 'South America',\n",
        "    'Bosnia and Herzegovina': 'Europe',\n",
        "    'Botswana': 'Africa',\n",
        "    'Brazil': 'South America',\n",
        "    'Brunei Darussalam': 'Asia',\n",
        "    'Bulgaria': 'Europe',\n",
        "    'Burkina Faso': 'Africa',\n",
        "    'Burundi': 'Africa',\n",
        "    \"Côte d'Ivoire\": 'Africa',\n",
        "    'Cabo Verde': 'Africa',\n",
        "    'Cambodia': 'Asia',\n",
        "    'Cameroon': 'Africa',\n",
        "    'Canada': 'North America',\n",
        "    'Central African Republic': 'Africa',\n",
        "    'Chad': 'Africa',\n",
        "    'Chile': 'South America',\n",
        "    'China': 'Asia',\n",
        "    'Colombia': 'South America',\n",
        "    'Comoros': 'Africa',\n",
        "    'Republic of the Congo': 'Africa',\n",
        "    'Costa Rica': 'North America',\n",
        "    'Croatia': 'Europe',\n",
        "    'Cuba': 'North America',\n",
        "    'Cyprus': 'Asia',\n",
        "    'Czechia': 'Europe',\n",
        "    \"Democratic People's Rep. of Korea\": 'Asia',\n",
        "    'Democratic Republic of the Congo': 'Africa',\n",
        "    'Denmark': 'Europe',\n",
        "    'Djibouti': 'Africa',\n",
        "    'Dominican Republic': 'North America',\n",
        "    'Ecuador': 'South America',\n",
        "    'Egypt': 'Africa',\n",
        "    'El Salvador': 'North America',\n",
        "    'Equatorial Guinea': 'Africa',\n",
        "    'Eritrea': 'Africa',\n",
        "    'Estonia': 'Europe',\n",
        "    'Ethiopia': 'Africa',\n",
        "    'Fiji': 'Oceania',\n",
        "    'Finland': 'Europe',\n",
        "    'France': 'Europe',\n",
        "    'Gabon': 'Africa',\n",
        "    'Gambia': 'Africa',\n",
        "    'Georgia': 'Asia',\n",
        "    'Germany': 'Europe',\n",
        "    'Ghana': 'Africa',\n",
        "    'Greece': 'Europe',\n",
        "    'Grenada': 'North America',\n",
        "    'Guatemala': 'North America',\n",
        "    'Guinea': 'Africa',\n",
        "    'Guinea-Bissau': 'Africa',\n",
        "    'Guyana': 'South America',\n",
        "    'Haiti': 'North America',\n",
        "    'Honduras': 'North America',\n",
        "    'Hungary': 'Europe',\n",
        "    'Iceland': 'Europe',\n",
        "    'India': 'Asia',\n",
        "    'Indonesia': 'Asia',\n",
        "    'Islamic Republic of Iran': 'Asia',\n",
        "    'Iraq': 'Asia',\n",
        "    'Ireland': 'Europe',\n",
        "    'Israel': 'Asia',\n",
        "    'Italy': 'Europe',\n",
        "    'Jamaica': 'North America',\n",
        "    'Japan': 'Asia',\n",
        "    'Jordan': 'Asia',\n",
        "    'Kazakhstan': 'Asia',\n",
        "    'Kenya': 'Africa',\n",
        "    'Kiribati': 'Oceania',\n",
        "    'Kuwait': 'Asia',\n",
        "    'Kyrgyzstan': 'Asia',\n",
        "    \"Lao People's Democratic Republic\": 'Asia',\n",
        "    'Latvia': 'Europe',\n",
        "    'Lebanon': 'Asia',\n",
        "    'Lesotho': 'Africa',\n",
        "    'Liberia': 'Africa',\n",
        "    'Libya': 'Africa',\n",
        "    'Lithuania': 'Europe',\n",
        "    'Luxembourg': 'Europe',\n",
        "    'Madagascar': 'Africa',\n",
        "    'Malawi': 'Africa',\n",
        "    'Malaysia': 'Asia',\n",
        "    'Maldives': 'Asia',\n",
        "    'Mali': 'Africa',\n",
        "    'Malta': 'Europe',\n",
        "    'Mauritania': 'Africa',\n",
        "    'Mauritius': 'Africa',\n",
        "    'Mexico': 'North America',\n",
        "    'Micronesia (Federated States of)': 'Oceania',\n",
        "    'Mongolia': 'Asia',\n",
        "    'Montenegro': 'Europe',\n",
        "    'Morocco': 'Africa',\n",
        "    'Mozambique': 'Africa',\n",
        "    'Myanmar': 'Asia',\n",
        "    'Namibia': 'Africa',\n",
        "    'Nepal': 'Asia',\n",
        "    'Netherlands': 'Europe',\n",
        "    'New Zealand': 'Oceania',\n",
        "    'Nicaragua': 'North America',\n",
        "    'Niger': 'Africa',\n",
        "    'Nigeria': 'Africa',\n",
        "    'Norway': 'Europe',\n",
        "    'Oman': 'Asia',\n",
        "    'Pakistan': 'Asia',\n",
        "    'Panama': 'North America',\n",
        "    'Papua New Guinea': 'Oceania',\n",
        "    'Paraguay': 'South America',\n",
        "    'Peru': 'South America',\n",
        "    'Philippines': 'Asia',\n",
        "    'Poland': 'Europe',\n",
        "    'Portugal': 'Europe',\n",
        "    'Qatar': 'Asia',\n",
        "    'Republic of Korea': 'Asia',\n",
        "    'Republic of Moldova': 'Europe',\n",
        "    'Romania': 'Europe',\n",
        "    'Russian Federation': 'Europe',\n",
        "    'Rwanda': 'Africa',\n",
        "    'Saint Lucia': 'North America',\n",
        "    'Saint Vincent and the Grenadines': 'North America',\n",
        "    'Samoa': 'Oceania',\n",
        "    'Sao Tome and Principe': 'Africa',\n",
        "    'Saudi Arabia': 'Asia',\n",
        "    'Senegal': 'Africa',\n",
        "    'Serbia*': 'Europe',\n",
        "    'Seychelles': 'Africa',\n",
        "    'Sierra Leone': 'Africa',\n",
        "    'Singapore': 'Asia',\n",
        "    'Slovakia': 'Europe',\n",
        "    'Slovenia': 'Europe',\n",
        "    'Solomon Islands': 'Oceania',\n",
        "    'Somalia': 'Africa',\n",
        "    'South Africa': 'Africa',\n",
        "    'South Sudan': 'Africa',\n",
        "    'Spain': 'Europe',\n",
        "    'Sri Lanka': 'Asia',\n",
        "    'Sudan': 'Africa',\n",
        "    'Suriname': 'South America',\n",
        "    'Swaziland': 'Africa',\n",
        "    'Sweden': 'Europe',\n",
        "    'Switzerland': 'Europe',\n",
        "    'Syrian Arab Republic': 'Asia',\n",
        "    'Tajikistan': 'Asia',\n",
        "    'Thailand': 'Asia',\n",
        "    'The former Yugoslav republic of Macedonia': 'Europe',\n",
        "    'Timor-Leste': 'Asia',\n",
        "    'Togo': 'Africa',\n",
        "    'Tonga': 'Oceania',\n",
        "    'Trinidad and Tobago': 'North America',\n",
        "    'Tunisia': 'Africa',\n",
        "    'Türkiye': 'Asia',\n",
        "    'Turkmenistan': 'Asia',\n",
        "    'Uganda': 'Africa',\n",
        "    'Ukraine': 'Europe',\n",
        "    'United Arab Emirates': 'Asia',\n",
        "    'United Kingdom of Great Britain and Northern Ireland': 'Europe',\n",
        "    'United Republic of Tanzania': 'Africa',\n",
        "    'United States of America': 'North America',\n",
        "    'Uruguay': 'South America',\n",
        "    'Uzbekistan': 'Asia',\n",
        "    'Vanuatu': 'Oceania',\n",
        "    'Bolivarian Republic of Venezuela': 'South America',\n",
        "    'Viet Nam': 'Asia',\n",
        "    'Yemen': 'Asia',\n",
        "    'Zambia': 'Africa',\n",
        "    'Zimbabwe': 'Africa'\n",
        "}\n"
      ],
      "metadata": {
        "id": "1oFTLgujeoY9"
      },
      "execution_count": null,
      "outputs": []
    },
    {
      "cell_type": "code",
      "source": [
        "cleaned_datset['continent'] = cleaned_datset['Country'].map(country_to_continent)\n",
        "\n",
        "# Save the updated DataFrame to a new CSV file (optional)\n",
        "cleaned_datset.to_csv('cleaned_life_data_continents.csv', index=False)"
      ],
      "metadata": {
        "id": "uaZ8e8TWetdA"
      },
      "execution_count": null,
      "outputs": []
    },
    {
      "cell_type": "code",
      "source": [
        "unique_continents = cleaned_datset['continent'].unique()\n",
        "print(unique_continents)"
      ],
      "metadata": {
        "colab": {
          "base_uri": "https://localhost:8080/"
        },
        "id": "9asVgfTuhgPx",
        "outputId": "ae9a9bc3-072f-439e-bc60-14aeb3291924"
      },
      "execution_count": null,
      "outputs": [
        {
          "output_type": "stream",
          "name": "stdout",
          "text": [
            "['Asia' 'Europe' 'Africa' 'North America' 'South America' 'Oceania']\n"
          ]
        }
      ]
    }
  ]
}